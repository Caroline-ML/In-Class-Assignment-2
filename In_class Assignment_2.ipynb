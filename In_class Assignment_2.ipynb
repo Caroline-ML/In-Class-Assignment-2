{
 "cells": [
  {
   "cell_type": "code",
   "execution_count": 11,
   "metadata": {},
   "outputs": [
    {
     "name": "stdout",
     "output_type": "stream",
     "text": [
      "\n",
      "* \n",
      "* * \n",
      "* * * \n",
      "* * * * \n",
      "* * * * * \n",
      "* * * * \n",
      "* * * \n",
      "* * \n",
      "* \n"
     ]
    }
   ],
   "source": [
    "# Question 1\n",
    "# Use a python code to display the following star pattern using the for loop\n",
    "star = 5\n",
    "\n",
    "# 1st loop to print from 0 - i stars\n",
    "for i in range(star):    # Loop for Iterations\n",
    "    for j in range(0, i): # Loop that prints out the '*'\n",
    "        print('*', end=' ')   \n",
    "    print()\n",
    "\n",
    "# 2nd loop to print bottom half of the tree\n",
    "for i in range(star):  # Loop for iteration\n",
    "    for j in range(i, star): # Loop that prints out the '*'\n",
    "        print('*', end=' ')\n",
    "    print()"
   ]
  },
  {
   "cell_type": "code",
   "execution_count": 10,
   "metadata": {},
   "outputs": [
    {
     "name": "stdout",
     "output_type": "stream",
     "text": [
      "20 40 60 80 100 "
     ]
    }
   ],
   "source": [
    "# Question 2\n",
    "# Use looping to output the elements from a provided list present at odd indexes.\n",
    "my_list = [10, 20, 30, 40, 50, 60, 70, 80, 90, 100]\n",
    "\n",
    "for i in range(1, len(my_list), 2):  # starts at odd index of 1 and prints out every other value\n",
    "    print(my_list[i], end=' ')"
   ]
  },
  {
   "cell_type": "code",
   "execution_count": 5,
   "metadata": {},
   "outputs": [
    {
     "name": "stdout",
     "output_type": "stream",
     "text": [
      "[23, 'Python', 23.98] \n",
      " [<class 'int'>, <class 'str'>, <class 'float'>]\n"
     ]
    }
   ],
   "source": [
    "# Question 3\n",
    "# Write a code that appends the type of elements from a given list\n",
    "x = [23, 'Python', 23.98]\n",
    "\n",
    "elements_of_x = []\n",
    "\n",
    "for element in x:\n",
    "    elements_of_x.append(type(element))\n",
    "\n",
    "print(x, '\\n', elements_of_x)\n"
   ]
  },
  {
   "cell_type": "code",
   "execution_count": 8,
   "metadata": {},
   "outputs": [
    {
     "name": "stdout",
     "output_type": "stream",
     "text": [
      "Sample List:  [1, 2, 3, 3, 3, 3, 4, 5] \n",
      "Unique list:  [1, 2, 3, 4, 5]\n"
     ]
    }
   ],
   "source": [
    "# Question 4\n",
    "# Write a function that takes a list and returns a new list with unique items of the first list.\n",
    "sample_list = [1,2,3,3,3,3,4,5]\n",
    "\n",
    "\n",
    "def unique_list(a_list):\n",
    "    print(\"Sample List: \", a_list,\"\\nUnique list: \", list(set(a_list)))\n",
    "\n",
    "\n",
    "unique_list(sample_list)\n"
   ]
  },
  {
   "attachments": {},
   "cell_type": "markdown",
   "metadata": {},
   "source": [
    "# Example Using user input\n",
    "user_list = []\n",
    "\n",
    "number = eval(input(\"Enter an integer. To stop enter 0:\"))\n",
    "while number != 0:\n",
    "    user_list.append(number)\n",
    "    number = eval(input(\"Enter an integer. To stop enter 0:\"))\n",
    "\n",
    "unique_list(user_list)"
   ]
  },
  {
   "cell_type": "code",
   "execution_count": 7,
   "metadata": {},
   "outputs": [
    {
     "name": "stdout",
     "output_type": "stream",
     "text": [
      "No. of Upper-case characters:  3 \n",
      "No. of Lower-case characters:  12\n"
     ]
    }
   ],
   "source": [
    "# Question 5\n",
    "# Write a function that accepts a string and calculate the number of upper-case letters and lower-case\n",
    "# letters.\n",
    "sample_str = 'The quick Brow Fox'\n",
    "# sample_str2 = 'In_class Assignment_2.ipynb'\n",
    "\n",
    "# Function that takes a string and uses the isupper() and islower method to determine if the character is one or the other\n",
    "def count_characters(input):\n",
    "    upper = 0\n",
    "    lower = 0\n",
    "\n",
    "    for chr in input:\n",
    "        if chr.isupper():\n",
    "            upper += 1     # Increment if character is upper by 1\n",
    "    \n",
    "        if chr.islower():\n",
    "            lower += 1     #  # Increment if character is lower by 1\n",
    "\n",
    "    print(\"No. of Upper-case characters: \", upper, \"\\nNo. of Lower-case characters: \", lower)    # Output the total after completing loop\n",
    "\n",
    "\n",
    "count_characters(sample_str)"
   ]
  }
 ],
 "metadata": {
  "kernelspec": {
   "display_name": "Python 3",
   "language": "python",
   "name": "python3"
  },
  "language_info": {
   "codemirror_mode": {
    "name": "ipython",
    "version": 3
   },
   "file_extension": ".py",
   "mimetype": "text/x-python",
   "name": "python",
   "nbconvert_exporter": "python",
   "pygments_lexer": "ipython3",
   "version": "3.9.13"
  },
  "orig_nbformat": 4,
  "vscode": {
   "interpreter": {
    "hash": "b5bfa7400ca82c863b011ae924647b126cd54ef32974096344650888f82dcce8"
   }
  }
 },
 "nbformat": 4,
 "nbformat_minor": 2
}
